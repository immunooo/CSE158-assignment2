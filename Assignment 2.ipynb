{
 "cells": [
  {
   "cell_type": "code",
   "execution_count": 5,
   "id": "5ba805aa-8ae6-44ea-857f-f36c7e128b80",
   "metadata": {},
   "outputs": [],
   "source": [
    "import gzip\n",
    "from collections import defaultdict\n",
    "import math\n",
    "import scipy.optimize\n",
    "from sklearn import svm\n",
    "import numpy as np\n",
    "import string\n",
    "import random\n",
    "import string\n",
    "from sklearn import linear_model"
   ]
  },
  {
   "cell_type": "code",
   "execution_count": 20,
   "id": "7bcff262-e243-4fde-9225-396f25b10170",
   "metadata": {},
   "outputs": [],
   "source": [
    "def readGz(path):\n",
    "    for l in gzip.open(path, 'rt'):\n",
    "        yield eval(l)\n",
    "\n",
    "def readJSON(path):\n",
    "    f = gzip.open(path, 'rt', encoding='utf-8')\n",
    "    f.readline()\n",
    "    for l in f:\n",
    "        #this makes it take forever oml\n",
    "        l = l.replace('false', 'False')\n",
    "        l = l.replace('true', 'True')\n",
    "        \n",
    "        d = eval(l)\n",
    "        u = d['reviewerID']\n",
    "        g = d['asin']\n",
    "        yield u, g, d\n",
    "\n",
    "DATA = []\n",
    "for l in readJSON(\"Video_Games_5.json.gz\"):\n",
    "    DATA.append(l)\n"
   ]
  },
  {
   "cell_type": "code",
   "execution_count": 21,
   "id": "8db29e78-f6e3-46b5-a32e-4d49138d8998",
   "metadata": {},
   "outputs": [
    {
     "name": "stdout",
     "output_type": "stream",
     "text": [
      "('A1JGAP0185YJI6', '0700026657', {'overall': 4.0, 'verified': False, 'reviewTime': '07 27, 2015', 'reviewerID': 'A1JGAP0185YJI6', 'asin': '0700026657', 'reviewerName': 'travis', 'reviewText': 'I played it a while but it was alright. The steam was a bit of trouble. The more they move these game to steam the more of a hard time I have activating and playing a game. But in spite of that it was fun, I liked it. Now I am looking forward to anno 2205 I really want to play my way to the moon.', 'summary': 'But in spite of that it was fun, I liked it', 'unixReviewTime': 1437955200})\n"
     ]
    }
   ],
   "source": [
    "print(DATA[0])"
   ]
  },
  {
   "cell_type": "code",
   "execution_count": null,
   "id": "2f4bbd2f-5f56-4269-917b-eb5eadcf5127",
   "metadata": {},
   "outputs": [],
   "source": []
  }
 ],
 "metadata": {
  "kernelspec": {
   "display_name": "Python 3 (ipykernel)",
   "language": "python",
   "name": "python3"
  },
  "language_info": {
   "codemirror_mode": {
    "name": "ipython",
    "version": 3
   },
   "file_extension": ".py",
   "mimetype": "text/x-python",
   "name": "python",
   "nbconvert_exporter": "python",
   "pygments_lexer": "ipython3",
   "version": "3.11.3"
  }
 },
 "nbformat": 4,
 "nbformat_minor": 5
}
